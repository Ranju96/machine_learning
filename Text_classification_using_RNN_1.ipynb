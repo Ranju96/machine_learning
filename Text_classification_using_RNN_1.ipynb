{
  "cells": [
    {
      "cell_type": "code",
      "execution_count": null,
      "id": "ce58a7c1",
      "metadata": {
        "id": "ce58a7c1",
        "outputId": "48adebdf-1d3b-421d-9e11-17fdc4ffca9d"
      },
      "outputs": [
        {
          "name": "stderr",
          "output_type": "stream",
          "text": [
            "[nltk_data] Downloading package punkt to\n",
            "[nltk_data]     C:\\Users\\RACHITA\\AppData\\Roaming\\nltk_data...\n",
            "[nltk_data]   Package punkt is already up-to-date!\n"
          ]
        }
      ],
      "source": [
        "import numpy as np \n",
        "import pandas as pd \n",
        "import matplotlib.pyplot as plt\n",
        "import re\n",
        "import nltk\n",
        "from sklearn.feature_extraction.text import TfidfVectorizer\n",
        "import string\n",
        "nltk.download('punkt')\n",
        "from nltk.tokenize import word_tokenize\n",
        "from nltk.corpus import stopwords\n",
        "\n",
        "import tensorflow as tf\n",
        "from tensorflow.keras.layers import Embedding, LSTM, Dense\n",
        "from tensorflow.keras.models import Sequential\n",
        "from tensorflow.keras.preprocessing.text import Tokenizer\n",
        "from tensorflow.keras.preprocessing.sequence import pad_sequences"
      ]
    },
    {
      "cell_type": "code",
      "execution_count": null,
      "id": "14b3b856",
      "metadata": {
        "id": "14b3b856",
        "outputId": "80ef13ca-4cbf-4c83-950b-90a71377e14b"
      },
      "outputs": [
        {
          "data": {
            "text/html": [
              "<div>\n",
              "<style scoped>\n",
              "    .dataframe tbody tr th:only-of-type {\n",
              "        vertical-align: middle;\n",
              "    }\n",
              "\n",
              "    .dataframe tbody tr th {\n",
              "        vertical-align: top;\n",
              "    }\n",
              "\n",
              "    .dataframe thead th {\n",
              "        text-align: right;\n",
              "    }\n",
              "</style>\n",
              "<table border=\"1\" class=\"dataframe\">\n",
              "  <thead>\n",
              "    <tr style=\"text-align: right;\">\n",
              "      <th></th>\n",
              "      <th>comments</th>\n",
              "      <th>tagging</th>\n",
              "    </tr>\n",
              "  </thead>\n",
              "  <tbody>\n",
              "    <tr>\n",
              "      <th>0</th>\n",
              "      <td>Get fucking real dude.</td>\n",
              "      <td>1</td>\n",
              "    </tr>\n",
              "    <tr>\n",
              "      <th>1</th>\n",
              "      <td>She is as dirty as they come  and that crook ...</td>\n",
              "      <td>1</td>\n",
              "    </tr>\n",
              "    <tr>\n",
              "      <th>2</th>\n",
              "      <td>why did you fuck it up. I could do it all day...</td>\n",
              "      <td>1</td>\n",
              "    </tr>\n",
              "    <tr>\n",
              "      <th>3</th>\n",
              "      <td>Dude they dont finish enclosing the fucking s...</td>\n",
              "      <td>1</td>\n",
              "    </tr>\n",
              "    <tr>\n",
              "      <th>4</th>\n",
              "      <td>WTF are you talking about Men? No men thats n...</td>\n",
              "      <td>1</td>\n",
              "    </tr>\n",
              "    <tr>\n",
              "      <th>...</th>\n",
              "      <td>...</td>\n",
              "      <td>...</td>\n",
              "    </tr>\n",
              "    <tr>\n",
              "      <th>19996</th>\n",
              "      <td>I dont. But what is complaining about it goi...</td>\n",
              "      <td>0</td>\n",
              "    </tr>\n",
              "    <tr>\n",
              "      <th>19997</th>\n",
              "      <td>Bahah  yeah i&amp;;m totally just gonna&amp;; get pis...</td>\n",
              "      <td>0</td>\n",
              "    </tr>\n",
              "    <tr>\n",
              "      <th>19998</th>\n",
              "      <td>hahahahaha &gt;:) im evil mwahahahahahahahahaha</td>\n",
              "      <td>0</td>\n",
              "    </tr>\n",
              "    <tr>\n",
              "      <th>19999</th>\n",
              "      <td>What&amp;;s something unique about Ohio? :)</td>\n",
              "      <td>0</td>\n",
              "    </tr>\n",
              "    <tr>\n",
              "      <th>20000</th>\n",
              "      <td>Who is the biggest gossiper you know?</td>\n",
              "      <td>0</td>\n",
              "    </tr>\n",
              "  </tbody>\n",
              "</table>\n",
              "<p>20001 rows × 2 columns</p>\n",
              "</div>"
            ],
            "text/plain": [
              "                                                comments  tagging\n",
              "0                                 Get fucking real dude.        1\n",
              "1       She is as dirty as they come  and that crook ...        1\n",
              "2       why did you fuck it up. I could do it all day...        1\n",
              "3       Dude they dont finish enclosing the fucking s...        1\n",
              "4       WTF are you talking about Men? No men thats n...        1\n",
              "...                                                  ...      ...\n",
              "19996    I dont. But what is complaining about it goi...        0\n",
              "19997   Bahah  yeah i&;m totally just gonna&; get pis...        0\n",
              "19998       hahahahaha >:) im evil mwahahahahahahahahaha        0\n",
              "19999            What&;s something unique about Ohio? :)        0\n",
              "20000              Who is the biggest gossiper you know?        0\n",
              "\n",
              "[20001 rows x 2 columns]"
            ]
          },
          "execution_count": 21,
          "metadata": {},
          "output_type": "execute_result"
        }
      ],
      "source": [
        "df = pd.read_csv('Suspicious Communication on Social Platforms.csv')\n",
        "df"
      ]
    },
    {
      "cell_type": "markdown",
      "id": "47cac509",
      "metadata": {
        "id": "47cac509"
      },
      "source": [
        "Dataset Source: https://www.kaggle.com/code/cahyareza/trip-advisor-reviews/input"
      ]
    },
    {
      "cell_type": "markdown",
      "id": "3a328f96",
      "metadata": {
        "id": "3a328f96"
      },
      "source": [
        "#### Data Preprocessing "
      ]
    },
    {
      "cell_type": "code",
      "execution_count": null,
      "id": "2cc34614",
      "metadata": {
        "id": "2cc34614"
      },
      "outputs": [],
      "source": [
        "def parse_text(text):\n",
        "    # Convert to lowercase\n",
        "    text = text.lower()\n",
        "    # Remove URLs\n",
        "    text = re.sub(r'http\\S+', '', text)   \n",
        "    # Remove punctuation\n",
        "    text = text.translate(str.maketrans('', '', string.punctuation))    \n",
        "    # Tokenize text into words\n",
        "    tokens = word_tokenize(text)   \n",
        "    # Remove stopwords\n",
        "    stop_words = set(stopwords.words('english'))\n",
        "    filtered_tokens = [token for token in tokens if token not in stop_words]    \n",
        "    # Join tokens back into text\n",
        "    parsed_text = ' '.join(filtered_tokens)    \n",
        "    return parsed_text"
      ]
    },
    {
      "cell_type": "code",
      "execution_count": null,
      "id": "3709a447",
      "metadata": {
        "id": "3709a447",
        "outputId": "55a416a0-0017-4f1b-dbea-2eb8f4d5f8f6"
      },
      "outputs": [
        {
          "name": "stderr",
          "output_type": "stream",
          "text": [
            "[nltk_data] Downloading package stopwords to\n",
            "[nltk_data]     C:\\Users\\RACHITA\\AppData\\Roaming\\nltk_data...\n",
            "[nltk_data]   Package stopwords is already up-to-date!\n"
          ]
        }
      ],
      "source": [
        "nltk.download('stopwords')\n",
        "df['comments'] = df['comments'].apply(parse_text)"
      ]
    },
    {
      "cell_type": "code",
      "execution_count": null,
      "id": "d9370982",
      "metadata": {
        "id": "d9370982"
      },
      "outputs": [],
      "source": [
        "X = df['comments']\n",
        "y = df['tagging']"
      ]
    },
    {
      "cell_type": "code",
      "execution_count": null,
      "id": "14687687",
      "metadata": {
        "id": "14687687"
      },
      "outputs": [],
      "source": [
        "# Tokenize texts\n",
        "tokenizer = Tokenizer(num_words=5000)\n",
        "tokenizer.fit_on_texts(X)\n",
        "sequences = tokenizer.texts_to_sequences(X)\n",
        "word_index = tokenizer.word_index"
      ]
    },
    {
      "cell_type": "code",
      "execution_count": null,
      "id": "0253ee36",
      "metadata": {
        "id": "0253ee36"
      },
      "outputs": [],
      "source": [
        "# Pad sequences\n",
        "max_length = 100\n",
        "df1 = pad_sequences(sequences, maxlen=max_length)"
      ]
    },
    {
      "cell_type": "code",
      "execution_count": null,
      "id": "30686d9c",
      "metadata": {
        "id": "30686d9c"
      },
      "outputs": [],
      "source": [
        "# split X and y into training and testing sets\n",
        "from sklearn.model_selection import train_test_split\n",
        "# Split data into train and test sets\n",
        "X_train, X_test, y_train, y_test = train_test_split(df1,y,test_size=0.2)"
      ]
    },
    {
      "cell_type": "code",
      "execution_count": null,
      "id": "120e9574",
      "metadata": {
        "id": "120e9574"
      },
      "outputs": [],
      "source": [
        "from tensorflow.keras.layers import Dropout\n",
        "# Define model\n",
        "model = Sequential()\n",
        "model.add(Embedding(input_dim=5000, output_dim=64, input_length=max_length))\n",
        "model.add(LSTM(64, return_sequences=True))\n",
        "model.add(Dropout(0.5))\n",
        "model.add(LSTM(32))\n",
        "model.add(Dropout(0.5))\n",
        "model.add(Dense(1, activation='sigmoid'))"
      ]
    },
    {
      "cell_type": "code",
      "execution_count": null,
      "id": "22a1f02d",
      "metadata": {
        "id": "22a1f02d"
      },
      "outputs": [],
      "source": [
        "# Compile model\n",
        "model.compile(loss='binary_crossentropy', optimizer='adam', metrics=['accuracy'])"
      ]
    },
    {
      "cell_type": "code",
      "execution_count": null,
      "id": "ea25af5f",
      "metadata": {
        "id": "ea25af5f",
        "outputId": "826b5618-24c2-43b2-c2cc-697ae221d82b"
      },
      "outputs": [
        {
          "name": "stdout",
          "output_type": "stream",
          "text": [
            "Epoch 1/10\n",
            "250/250 [==============================] - 26s 94ms/step - loss: 0.5889 - accuracy: 0.6774 - val_loss: 0.5005 - val_accuracy: 0.7456\n",
            "Epoch 2/10\n",
            "250/250 [==============================] - 23s 93ms/step - loss: 0.4193 - accuracy: 0.8070 - val_loss: 0.4478 - val_accuracy: 0.7921\n",
            "Epoch 3/10\n",
            "250/250 [==============================] - 23s 94ms/step - loss: 0.3379 - accuracy: 0.8588 - val_loss: 0.4312 - val_accuracy: 0.8118\n",
            "Epoch 4/10\n",
            "250/250 [==============================] - 24s 95ms/step - loss: 0.2807 - accuracy: 0.8882 - val_loss: 0.4221 - val_accuracy: 0.8220\n",
            "Epoch 5/10\n",
            "250/250 [==============================] - 24s 95ms/step - loss: 0.2302 - accuracy: 0.9136 - val_loss: 0.4110 - val_accuracy: 0.8403\n",
            "Epoch 6/10\n",
            "250/250 [==============================] - 24s 94ms/step - loss: 0.1894 - accuracy: 0.9321 - val_loss: 0.4366 - val_accuracy: 0.8458\n",
            "Epoch 7/10\n",
            "250/250 [==============================] - 26s 106ms/step - loss: 0.1637 - accuracy: 0.9412 - val_loss: 0.4879 - val_accuracy: 0.8418\n",
            "Epoch 8/10\n",
            "250/250 [==============================] - 24s 96ms/step - loss: 0.1449 - accuracy: 0.9499 - val_loss: 0.4535 - val_accuracy: 0.8530\n",
            "Epoch 9/10\n",
            "250/250 [==============================] - 24s 97ms/step - loss: 0.1268 - accuracy: 0.9565 - val_loss: 0.4958 - val_accuracy: 0.8585\n",
            "Epoch 10/10\n",
            "250/250 [==============================] - 26s 105ms/step - loss: 0.1190 - accuracy: 0.9597 - val_loss: 0.4882 - val_accuracy: 0.8613\n"
          ]
        },
        {
          "data": {
            "text/plain": [
              "<keras.callbacks.History at 0x1579f6a42e0>"
            ]
          },
          "execution_count": 36,
          "metadata": {},
          "output_type": "execute_result"
        }
      ],
      "source": [
        "# Train model\n",
        "model.fit(X_train, y_train, validation_data=(X_test, y_test), epochs=10, batch_size=64)"
      ]
    },
    {
      "cell_type": "code",
      "execution_count": null,
      "id": "b8307275",
      "metadata": {
        "id": "b8307275",
        "outputId": "714ce802-5538-4f9f-b5ca-c5de3e19b5c4"
      },
      "outputs": [
        {
          "name": "stdout",
          "output_type": "stream",
          "text": [
            "126/126 [==============================] - 3s 23ms/step - loss: 0.4882 - accuracy: 0.8613\n",
            "Test loss: 0.4881916344165802\n",
            "Test accuracy: 0.8612846732139587\n"
          ]
        }
      ],
      "source": [
        "# Evaluate model\n",
        "loss, accuracy = model.evaluate(X_test, y_test)\n",
        "print('Test loss:', loss)\n",
        "print('Test accuracy:', accuracy)"
      ]
    },
    {
      "cell_type": "code",
      "execution_count": null,
      "id": "bad25553",
      "metadata": {
        "id": "bad25553"
      },
      "outputs": [],
      "source": []
    }
  ],
  "metadata": {
    "kernelspec": {
      "display_name": "Python 3 (ipykernel)",
      "language": "python",
      "name": "python3"
    },
    "language_info": {
      "codemirror_mode": {
        "name": "ipython",
        "version": 3
      },
      "file_extension": ".py",
      "mimetype": "text/x-python",
      "name": "python",
      "nbconvert_exporter": "python",
      "pygments_lexer": "ipython3",
      "version": "3.9.13"
    },
    "colab": {
      "provenance": []
    }
  },
  "nbformat": 4,
  "nbformat_minor": 5
}